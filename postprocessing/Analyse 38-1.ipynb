{
 "cells": [
  {
   "cell_type": "code",
   "execution_count": 1,
   "id": "e0edef75-ce11-4dcc-8797-a3b1f47d20ff",
   "metadata": {},
   "outputs": [],
   "source": [
    "from pathlib import Path\n",
    "import pandas as pd\n",
    "import geopandas as gpd\n",
    "import matplotlib.pyplot as plt\n",
    "import matplotlib\n",
    "from matplotlib.colors import LinearSegmentedColormap\n",
    "import numpy as np\n",
    "import seaborn as sns\n",
    "import contextily as ctx\n",
    "import copy\n",
    "from scipy.stats import norm\n",
    "from plot_functions import plot_vakindeling, plot_assessment_betas, plot_assessment_probabilities, plot_pf_length_cost, get_cum_costs, add_characteristic_columns, map_of_measures, map_of_soil_dimensions, plot_soil_dim_map, map_of_measure_cost, map_of_measure_cost_diff\n",
    "from load_output import read_assessment_betas, get_traject_prob_development\n",
    "sns.set_style('whitegrid')"
   ]
  },
  {
   "cell_type": "markdown",
   "id": "6953539e-4d22-4cc9-8aa5-41792f109128",
   "metadata": {},
   "source": [
    "## Case informatie"
   ]
  },
  {
   "cell_type": "code",
   "execution_count": 2,
   "id": "6f91ceda-f62e-4ea5-94ef-3189f6524b5c",
   "metadata": {},
   "outputs": [],
   "source": [
    "dijktraject = '38-1'\n",
    "close_figures = True\n",
    "shape_dir = Path(r'c:\\Users\\klerk_wj\\OneDrive - Stichting Deltares\\00_Projecten\\11_VR_Prioritering WSRL\\Gegevens 38-1')\n",
    "results_dir = Path(r'c:\\Users\\klerk_wj\\OneDrive - Stichting Deltares\\00_Projecten\\11_VR_Prioritering WSRL\\Berekeningen 38-1\\Berekening_20230307')\n",
    "run = 'sterker_VZG2'\n",
    "shapefile = gpd.read_file(shape_dir.joinpath('00_data_workflow','intermediate','Vakindeling_Veiligheidsrendement.shp'))\n",
    "\n",
    "#relevante lengtes voor figuren urgentie (3 waarden):\n",
    "lengtes_urgentie = [5000, 10000, 15000]"
   ]
  },
  {
   "cell_type": "markdown",
   "id": "e0366353-2659-40c7-87cf-207773e97ea4",
   "metadata": {},
   "source": [
    "## Vakindeling"
   ]
  },
  {
   "cell_type": "code",
   "execution_count": 3,
   "id": "61493136-9687-4771-b275-3a20aab285c0",
   "metadata": {},
   "outputs": [],
   "source": [
    "shapefile.crs='EPSG:28992'\n",
    "shapefile = shapefile.to_crs(epsg=3857)\n",
    "# shapefile.to_crs(epsg=4326)\n",
    "for count, section in shapefile.iterrows():\n",
    "    if len(section.NUMMER) ==1:\n",
    "        #pad 0:\n",
    "        shapefile.loc[count,'NUMMER']= '{:02d}'.format(np.int32(section.NUMMER))\n",
    "shapefile = shapefile.rename(columns={'NUMMER':'vaknaam','IN_ANALYSE':'in_analyse','MEAS_START':'m_start','MEAS_END':'m_eind'})"
   ]
  },
  {
   "cell_type": "code",
   "execution_count": 4,
   "id": "235cbcbc-6661-4466-9f00-27c5e7c20f22",
   "metadata": {},
   "outputs": [],
   "source": [
    "plot_vakindeling(shapefile, results_dir.joinpath(run, 'extra_resultaten', 'vakindeling.png'),close_output=close_figures)\n"
   ]
  },
  {
   "cell_type": "markdown",
   "id": "86a168da-6a3b-4618-8e42-759fcc77bf4d",
   "metadata": {},
   "source": [
    "## Resultaten beoordeling"
   ]
  },
  {
   "cell_type": "code",
   "execution_count": 5,
   "id": "7d9f2bce-ed08-4dee-96d7-1518c7e0937b",
   "metadata": {},
   "outputs": [],
   "source": [
    "#lees beoordelingsresultaten\n",
    "InitialAssessmentBetas, InitialAssessmentProbabilities = read_assessment_betas(results_dir.joinpath(run, 'InitialAssessment_Betas.csv'))\n"
   ]
  },
  {
   "cell_type": "code",
   "execution_count": 6,
   "id": "a03c904b-9187-4c80-ac6f-9c2f977fd7be",
   "metadata": {
    "tags": []
   },
   "outputs": [],
   "source": [
    "#plot beoordeling\n",
    "plot_assessment_betas(shapefile, InitialAssessmentBetas, results_dir.joinpath(run,'extra_resultaten'), year = 2025,close_output=close_figures)\n",
    "\n",
    "plot_assessment_probabilities(shapefile, InitialAssessmentProbabilities, results_dir.joinpath(run,'extra_resultaten'), year = 2025,close_output=close_figures)\n",
    "\n",
    "plot_assessment_probabilities(shapefile, InitialAssessmentProbabilities, results_dir.joinpath(run,'extra_resultaten'), year = 2075,close_output=close_figures)\n",
    "\n"
   ]
  },
  {
   "cell_type": "markdown",
   "id": "60e56526-d22e-46b4-94a6-f0e77749b6cf",
   "metadata": {},
   "source": [
    "## Maatregelen"
   ]
  },
  {
   "cell_type": "markdown",
   "id": "61d102aa-d303-456a-ad65-bd038dcd961a",
   "metadata": {
    "tags": []
   },
   "source": [
    "### Versterkte lengte"
   ]
  },
  {
   "cell_type": "code",
   "execution_count": 7,
   "id": "668a85ec-96de-430e-9453-7eb3ee8dd87b",
   "metadata": {
    "tags": []
   },
   "outputs": [],
   "source": [
    "#bepaal optimalisatie data van beide varianten\n",
    "initial_beta = InitialAssessmentBetas.loc[InitialAssessmentBetas.mechanism!='Section'].set_index(['name','mechanism']).drop(columns=['Length'])\n",
    "section_lengths = InitialAssessmentBetas.loc[InitialAssessmentBetas.mechanism=='Section'].set_index('name')['Length']\n",
    "vr = {}\n",
    "\n",
    "#optimale maatregelen\n",
    "vr['optimal_measures'] = pd.read_csv(results_dir.joinpath(run,'TakenMeasures_Optimal_Veiligheidsrendement.csv'),index_col=2)\n",
    "#maatregelvolgorde, optie 1: eerste investering als eerste\n",
    "vr['taken_measures'] = pd.read_csv(results_dir.joinpath(run,'TakenMeasures_Veiligheidsrendement.csv'),index_col=0)\n",
    "vr['section_order'], vr['traject_probs'] = get_traject_prob_development(vr['optimal_measures'],\n",
    "                                                                  vr['taken_measures'],\n",
    "                                                                  initial_beta,\n",
    "                                                                  option_dir = results_dir.joinpath(run))\n",
    "\n",
    "dsn = {}\n",
    "#optimale maatregelen referentie\n",
    "dsn['optimal_measures'] = pd.read_csv(results_dir.joinpath(run,'FinalMeasures_Doorsnede-eisen.csv'),index_col=2)\n",
    "#maatregelvolgorde, optie 1: eerste investering als eerste\n",
    "dsn['taken_measures'] = pd.read_csv(results_dir.joinpath(run,'TakenMeasures_Doorsnede-eisen.csv'),index_col=0)\n",
    "dsn['section_order'], dsn['traject_probs'] = get_traject_prob_development(dsn['optimal_measures'],\n",
    "                                                                    dsn['taken_measures'] ,\n",
    "                                                                    initial_beta, \n",
    "                                                                    option_dir = results_dir.joinpath(run),\n",
    "                                                                    calc_type='Doorsnede-eisen')\n",
    "\n",
    "\n",
    "\n"
   ]
  },
  {
   "cell_type": "code",
   "execution_count": 8,
   "id": "8594a313-12a1-4ffb-a76e-7110061fb991",
   "metadata": {
    "tags": []
   },
   "outputs": [],
   "source": [
    "#plot versterkte lengte versus faalkans\n",
    "years = [2025, 2050,2075]\n",
    "for year in years:\n",
    "    plot_pf_length_cost(vr, dsn,\n",
    "                                initial_beta, shapefile, \n",
    "                                results_dir.joinpath(run,'extra_resultaten'),\n",
    "                                section_lengths,\n",
    "                                mode= 'Length',\n",
    "                                year = year,\n",
    "                               close_output=close_figures)\n"
   ]
  },
  {
   "cell_type": "code",
   "execution_count": 9,
   "id": "76665a4f-4440-4a90-8695-a7bb5a99de91",
   "metadata": {
    "tags": []
   },
   "outputs": [],
   "source": [
    "#plot kosten versus faalkans\n",
    "years = [2025, 2050,2075]\n",
    "for year in years:\n",
    "    plot_pf_length_cost(vr, dsn,\n",
    "                                initial_beta, shapefile, \n",
    "                                results_dir.joinpath(run,'extra_resultaten'),\n",
    "                                section_lengths,\n",
    "                                mode= 'Cost',\n",
    "                                year = year,\n",
    "                                close_output=close_figures)\n",
    "\n"
   ]
  },
  {
   "cell_type": "code",
   "execution_count": 10,
   "id": "cf4d7b8d-857b-4548-9532-cf8e17e4c396",
   "metadata": {
    "tags": []
   },
   "outputs": [],
   "source": [
    "year_ind = 3\n",
    "year = np.int_(InitialAssessmentBetas.drop(columns=['name','mechanism','Length']).columns.values[year_ind])+2025\n",
    "fig, ax = plt.subplots(figsize=(10,4))\n",
    "x_vr = pd.concat([pd.Series([0]), get_cum_costs(vr['section_order'],vr['optimal_measures'])])\n",
    "x_dsn = pd.concat([pd.Series([0]), get_cum_costs(dsn['section_order'],dsn['optimal_measures'])])\n",
    "ax.plot(x_vr,-norm.ppf(vr['traject_probs'][:,year_ind]),label= 'Veiligheidsrendement',color='red',marker='.')\n",
    "ax.plot(x_dsn,-norm.ppf(dsn['traject_probs'][:,year_ind]),label= 'Doorsnede-eisen',color='green',marker='.')\n",
    "ax.hlines(-norm.ppf(1./10000),0,shapefile.m_eind.max(),label='Ondergrens',color='k',linestyle='--')\n",
    "\n",
    "ax.hlines(-norm.ppf(1./30000),0,shapefile.m_eind.max(),label='Signaleringswaarde',color='k',linestyle=':')\n",
    "#text labels vr:\n",
    "for count, section in enumerate(vr['section_order'],1):\n",
    "    if (count % 2) == 0:\n",
    "        ax.text(x_vr.iloc[count],4.5,section.strip('DV'),rotation=90,verticalalignment='top',color='red')\n",
    "    else:\n",
    "        ax.text(x_vr.iloc[count],4.5,section.strip('DV'),rotation=90,verticalalignment='bottom',color='red')\n",
    "        \n",
    "#text labels dsn:\n",
    "for count, section in enumerate(dsn['section_order'],1):\n",
    "    if (count % 2) == 0:\n",
    "        ax.text(x_dsn.iloc[count],5,section.strip('DV'),rotation=90,verticalalignment='top',color='green')\n",
    "    else:\n",
    "        ax.text(x_dsn.iloc[count],5,section.strip('DV'),rotation=90,verticalalignment='bottom',color='green')\n",
    "# ax.set_yscale('log')\n",
    "x_max_right = np.max([get_cum_costs(vr['section_order'],vr['optimal_measures']).max(),get_cum_costs(dsn['section_order'],dsn['optimal_measures']).max()])\n",
    "ax.set_xlim(left=0,right=x_max_right)\n",
    "ax.set_ylim(top=5.5)\n",
    "ax.set_title('Betrouwbaarheidsindex i.r.t. verdisconteerde kosten ({})'.format(year))\n",
    "ax.set_ylabel('Betrouwbaarheidsindex op trajectniveau')\n",
    "ax.set_xlabel('Verdisconteerde kosten in M€')\n",
    "ax.legend(loc='lower right')\n",
    "plt.savefig(results_dir.joinpath(run,'extra_resultaten','kosten vs beta in {}.png'.format(year)),dpi=300,bbox_inches='tight')\n",
    "plt.close()"
   ]
  },
  {
   "cell_type": "markdown",
   "id": "b7014c4f-d5eb-4a5c-818c-1b9c3121ebf8",
   "metadata": {},
   "source": [
    "Vergelijking optimalisatiepad, versus veiligheidsrendement opgebost per vak."
   ]
  },
  {
   "cell_type": "code",
   "execution_count": 11,
   "id": "524dac02-78fb-484b-9bd6-d21717ac5a9a",
   "metadata": {
    "tags": []
   },
   "outputs": [],
   "source": [
    "colors = sns.cubehelix_palette(n_colors=2, start=2.3, rot=1, gamma=1, hue=1.0, light=0.7, dark=0.2)\n",
    "\n",
    "year_ind = 0 #2025\n",
    "year = np.int_(InitialAssessmentBetas.drop(columns=['name','mechanism','Length']).columns.values[year_ind])+2025\n",
    "fig, ax = plt.subplots(figsize=(10,4))\n",
    "x_vr = pd.concat([pd.Series([0]), get_cum_costs(vr['section_order'],vr['optimal_measures'])])\n",
    "x_dsn = pd.concat([pd.Series([0]), get_cum_costs(dsn['section_order'],dsn['optimal_measures'])])\n",
    "ax.plot(x_vr,-norm.ppf(vr['traject_probs'][:,year_ind]),label= 'Veiligheidsrendement',color=colors[0],marker='.')\n",
    "ax.plot(x_dsn,-norm.ppf(dsn['traject_probs'][:,year_ind]),label= 'Doorsnede-eisen',color=colors[1],marker='.')\n",
    "\n",
    "optimal_path = pd.read_csv(results_dir.joinpath(run, 'Beta vs LCC_Optimized investment_t2025.csv'),index_col=0)\n",
    "ax.plot(optimal_path.Cost,optimal_path.beta,color=colors[0],linestyle='--',label='Optimaal pad VR')\n",
    "\n",
    "dsn_path = pd.read_csv(results_dir.joinpath(run, 'Beta vs LCC_Target reliability based investment_t2025.csv'),index_col=0)\n",
    "# ax.plot(dsn_path.Cost,dsn_path.beta,color=colors[1],linestyle='--',label='Pad doorsnede-eisen')\n",
    "\n",
    "ax.hlines(-norm.ppf(1./10000),0,shapefile.m_eind.max(),label='Ondergrens',color='k',linestyle='--')\n",
    "ax.hlines(-norm.ppf(1./30000),0,shapefile.m_eind.max(),label='Signaleringswaarde',color='k',linestyle=':')\n",
    "\n",
    "\n",
    "ax.set_xlim(left=0,right=get_cum_costs(dsn['section_order'],dsn['optimal_measures']).max())\n",
    "ax.set_ylim(top=5.5)\n",
    "ax.set_title('Betrouwbaarheidsindex i.r.t. verdisconteerde kosten ({})'.format(year))\n",
    "ax.set_ylabel('Betrouwbaarheidsindex op trajectniveau')\n",
    "ax.set_xlabel('Verdisconteerde kosten in M€')\n",
    "ax.legend(loc='lower right')\n",
    "plt.savefig(results_dir.joinpath(run,'extra_resultaten','vergelijking optimalisatiepad {}.png'.format(year)),dpi=300,bbox_inches='tight')\n",
    "plt.close()"
   ]
  },
  {
   "cell_type": "markdown",
   "id": "31e8876d-fe4f-4294-a0d3-f956bf830afc",
   "metadata": {},
   "source": [
    "## Resultaten"
   ]
  },
  {
   "cell_type": "code",
   "execution_count": 12,
   "id": "2cc1f1eb-4a89-434e-9455-70f0e5072632",
   "metadata": {},
   "outputs": [
    {
     "name": "stderr",
     "output_type": "stream",
     "text": [
      "C:\\Users\\klerk_wj\\Miniconda3\\envs\\vr_preprocessing\\lib\\site-packages\\geopandas\\plotting.py:693: UserWarning: The GeoDataFrame you are attempting to plot is empty. Nothing has been displayed.\n",
      "  warnings.warn(\n"
     ]
    }
   ],
   "source": [
    "def add_characteristic_columns(result_df):\n",
    "    #cleaning data\n",
    "    for count, line in result_df.iterrows():\n",
    "        try:\n",
    "            result_df.loc[count,'Section'] = line['Section'].strip('DV')\n",
    "        except:\n",
    "            pass\n",
    "    result_df['In 2045'] = result_df['ID'].str.contains(\"1\", case=False)\n",
    "    result_df['Stabiliteitsscherm'] = result_df['ID'].str.contains(\"4|7\", case=False)\n",
    "    result_df['VZG'] = result_df['ID'].str.contains(\"5\", case=False)\n",
    "    result_df['Diepwand'] = result_df['ID'].str.contains(\"6\", case=False)\n",
    "    return result_df\n",
    "                \n",
    "GreedyResult = pd.read_csv(results_dir.joinpath(run,'TakenMeasures_Optimal_Veiligheidsrendement.csv'))\n",
    "GreedyResult = add_characteristic_columns(GreedyResult)\n",
    "GreedyResult = shapefile.merge(GreedyResult,left_on='vaknaam',right_on='Section')\n",
    "map_of_measures(GreedyResult,close_output=close_figures,output_dir = results_dir.joinpath(run,'extra_resultaten'))\n",
    "\n",
    "DsnResult = pd.read_csv(results_dir.joinpath(run,'FinalMeasures_Doorsnede-eisen.csv'))\n",
    "DsnResult = add_characteristic_columns(DsnResult)\n",
    "DsnResult = shapefile.merge(DsnResult,left_on='vaknaam',right_on='Section')\n",
    "map_of_measures(DsnResult,data_type = 'Doorsnede-eisen',close_output=close_figures, output_dir = results_dir.joinpath(run,'extra_resultaten'))\n"
   ]
  },
  {
   "cell_type": "code",
   "execution_count": 13,
   "id": "094e1b7f-73af-4b53-ac01-df29d99bc274",
   "metadata": {
    "tags": []
   },
   "outputs": [],
   "source": [
    "map_of_soil_dimensions(GreedyResult,results_dir.joinpath(run,'extra_resultaten','dimensies_grond_vr.png'),close_output=close_figures)\n",
    "map_of_soil_dimensions(DsnResult,results_dir.joinpath(run,'extra_resultaten','dimensies_grond_dsn.png'),close_output=close_figures)"
   ]
  },
  {
   "cell_type": "code",
   "execution_count": 14,
   "id": "302d0707-1076-4300-b422-245184f73962",
   "metadata": {
    "scrolled": true,
    "tags": []
   },
   "outputs": [],
   "source": [
    "plot_soil_dim_map(GreedyResult,results_dir.joinpath(run,'extra_resultaten'),close_output=close_figures)\n",
    "plot_soil_dim_map(DsnResult,results_dir.joinpath(run,'extra_resultaten'),method = 'Doorsnede-eisen',close_output=close_figures)"
   ]
  },
  {
   "cell_type": "code",
   "execution_count": 15,
   "id": "92b6a3da-216c-4d6a-97d7-08d5dc33ca88",
   "metadata": {},
   "outputs": [],
   "source": [
    "map_of_measure_cost(GreedyResult,output_dir = results_dir.joinpath(run, 'extra_resultaten'))\n",
    "map_of_measure_cost(DsnResult,output_dir = results_dir.joinpath(run, 'extra_resultaten'), data_type = 'Doorsnede-eisen')\n",
    "\n",
    "GreedyResult['verschil'] = GreedyResult.LCC - DsnResult.LCC\n",
    "map_of_measure_cost_diff(GreedyResult,output_dir = results_dir.joinpath(run, 'extra_resultaten'), dif_col = 'verschil',close_output=close_figures)\n"
   ]
  },
  {
   "cell_type": "markdown",
   "id": "491e33f3-8225-44ec-bdab-8f143d85efab",
   "metadata": {},
   "source": [
    "## Urgentie van vakken"
   ]
  },
  {
   "cell_type": "code",
   "execution_count": 16,
   "id": "d4ca5f31-d284-4b38-afce-1e81a165d09b",
   "metadata": {
    "tags": []
   },
   "outputs": [],
   "source": [
    "def get_N_urgent_sections(section_lengths,section_order,n=20):\n",
    "    sections = []\n",
    "    for section in section_order:\n",
    "        #get length\n",
    "        length = section_lengths.loc[section.strip('DV')]\n",
    "        #add to sections\n",
    "        sections.append(section.strip('DV'))\n",
    "        #if len(sections) exceeds then stop\n",
    "        if len(sections) == n:\n",
    "            return pd.DataFrame([True]*len(sections),index=sections,columns=['scope ' + str(n) + ' vakken'])\n",
    "\n",
    "def get_L_urgent_meters(section_lengths,section_order, l=20000):\n",
    "    total_length = 0\n",
    "    sections = []\n",
    "    for section in section_order:\n",
    "        #get length\n",
    "        length = section_lengths.loc[section.strip('DV')]\n",
    "        #add to sections\n",
    "        sections.append(section.strip('DV'))\n",
    "        total_length += length\n",
    "        if total_length>l:\n",
    "            # return sections, total_length\n",
    "            return pd.DataFrame([True]*len(sections),index=sections,columns=['scope ' + str(np.int32(l/1000)) + ' km']), total_length  \n",
    "            \n"
   ]
  },
  {
   "cell_type": "code",
   "execution_count": 17,
   "id": "5ea10c17-a4ae-4877-97f1-d42d84b7b902",
   "metadata": {
    "tags": []
   },
   "outputs": [],
   "source": [
    "scopes = {}\n",
    "for l_max in lengtes_urgentie:\n",
    "    scopes['scope {}'.format(int(l_max))], l_found = get_L_urgent_meters(section_lengths,vr['section_order'],l=l_max)\n",
    "\n",
    "subset_greedy = copy.deepcopy(GreedyResult)[['OBJECTID', 'vaknaam','geometry','VAKLENGTE']]\n",
    "for key in scopes.keys():\n",
    "    subset_greedy = subset_greedy.merge(scopes[key], left_on='vaknaam',right_index=True,how='left')\n",
    "subset_greedy = subset_greedy.fillna(value=False)\n"
   ]
  },
  {
   "cell_type": "code",
   "execution_count": 18,
   "id": "70044d95-c296-44af-bbeb-dbb4480da4e1",
   "metadata": {},
   "outputs": [],
   "source": [
    "#grootste veiligheidstekort:\n",
    "veiligheidstekort = shapefile.merge(InitialAssessmentBetas.loc[InitialAssessmentBetas.mechanism == 'Section'],left_on='vaknaam',right_on='name')\n",
    "veiligheidstekort = veiligheidstekort.sort_values('0').reset_index(drop=True)\n",
    "veiligheidstekort['cumulatieve lengte'] =veiligheidstekort.Length.cumsum()"
   ]
  },
  {
   "cell_type": "code",
   "execution_count": 19,
   "id": "dcde8f22-2301-45ea-a7d2-5a9d86447a94",
   "metadata": {
    "tags": []
   },
   "outputs": [],
   "source": [
    "colors = sns.color_palette('husl',n_colors=4)\n",
    "#scope per km:\n",
    "fig,ax = plt.subplots(figsize=(12,5),nrows=2)\n",
    "subset_greedy.loc[subset_greedy['scope {}'.format(lengtes_urgentie[2])]].plot(ax=ax[0],categorical=True,legend=True,color=colors[3],linewidth=4,label='{} km'.format(int(lengtes_urgentie[2]/1000)))\n",
    "subset_greedy.loc[subset_greedy['scope {}'.format(lengtes_urgentie[1])]].plot(ax=ax[0],categorical=True,legend=True,color=colors[1],linewidth=4,label='{} km'.format(int(lengtes_urgentie[1]/1000)))\n",
    "subset_greedy.loc[subset_greedy['scope {}'.format(lengtes_urgentie[0])]].plot(ax=ax[0],categorical=True,legend=True,color=colors[0],linewidth=4,label='{} km'.format(int(lengtes_urgentie[0]/1000)))\n",
    "\n",
    "\n",
    "ctx.add_basemap(ax[0],source=ctx.providers.Stamen.TonerLite)\n",
    "ax[0].legend()\n",
    "ax[0].set_title('Urgentste km o.b.v. veiligheidsrendement')\n",
    "\n",
    "veiligheidstekort.loc[0:veiligheidstekort.loc[veiligheidstekort['cumulatieve lengte']>lengtes_urgentie[2]].index[0]].plot(ax=ax[1],categorical=True,legend=True,color=colors[3],linewidth=4,label='{} km'.format(int(lengtes_urgentie[2]/1000)))\n",
    "veiligheidstekort.loc[0:veiligheidstekort.loc[veiligheidstekort['cumulatieve lengte']>lengtes_urgentie[1]].index[0]].plot(ax=ax[1],categorical=True,legend=True,color=colors[1],linewidth=4,label='{} km'.format(int(lengtes_urgentie[1]/1000)))\n",
    "veiligheidstekort.loc[0:veiligheidstekort.loc[veiligheidstekort['cumulatieve lengte']>lengtes_urgentie[0]].index[0]].plot(ax=ax[1],categorical=True,legend=True,color=colors[0],linewidth=4,label='{} km'.format(int(lengtes_urgentie[0]/1000)))\n",
    "\n",
    "ctx.add_basemap(ax[1],source=ctx.providers.Stamen.TonerLite)\n",
    "\n",
    "ax[1].legend()\n",
    "ax[1].set_title('Urgentste km o.b.v. veiligheidstekort')\n",
    "\n",
    "for axes in ax:\n",
    "    axes.set_xticklabels('')\n",
    "    axes.set_yticklabels('')\n",
    "    axes.set_ylim(bottom=axes.get_ylim()[0] - 1000)\n",
    "\n",
    "plt.savefig(results_dir.joinpath(run,'extra_resultaten','urgentste_vakken_kms.png'),dpi=300,bbox_inches='tight')\n",
    "plt.close()"
   ]
  }
 ],
 "metadata": {
  "kernelspec": {
   "display_name": "Python 3 (ipykernel)",
   "language": "python",
   "name": "python3"
  },
  "language_info": {
   "codemirror_mode": {
    "name": "ipython",
    "version": 3
   },
   "file_extension": ".py",
   "mimetype": "text/x-python",
   "name": "python",
   "nbconvert_exporter": "python",
   "pygments_lexer": "ipython3",
   "version": "3.10.12"
  }
 },
 "nbformat": 4,
 "nbformat_minor": 5
}
