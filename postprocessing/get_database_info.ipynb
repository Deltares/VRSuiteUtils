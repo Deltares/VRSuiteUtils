{
 "cells": [
  {
   "cell_type": "code",
   "execution_count": 44,
   "id": "0d0964e2-30ee-447c-a2cf-d7c0309e8f38",
   "metadata": {},
   "outputs": [],
   "source": [
    "# Import necessary libraries"
   ]
  },
  {
   "cell_type": "code",
   "execution_count": 45,
   "id": "e9b85c72-0b27-4530-97c4-3b1443ac1b81",
   "metadata": {},
   "outputs": [],
   "source": [
    "import sqlite3\n",
    "import pandas as pd\n",
    "from pathlib import Path\n",
    "import numpy as np"
   ]
  },
  {
   "cell_type": "code",
   "execution_count": 46,
   "id": "ac020f1f-bb4e-43e2-bd4a-df049605df46",
   "metadata": {},
   "outputs": [],
   "source": [
    "# Defining the path to the database\n",
    "db_path = Path(r'n:\\Projects\\11209000\\11209353\\B. Measurements and calculations\\008 - Resultaten Proefvlucht\\ZZL\\7-2\\databases\\database_bekleding_bovengrens\\traject_7_2.db')"
   ]
  },
  {
   "cell_type": "code",
   "execution_count": 47,
   "id": "205eb0d7-adbe-4662-8521-c6fa688f2b45",
   "metadata": {},
   "outputs": [],
   "source": [
    "# Connecting to the database\n",
    "conn = sqlite3.connect(db_path)"
   ]
  },
  {
   "cell_type": "code",
   "execution_count": 48,
   "id": "15aa4456-1d17-4b54-a4cc-e25614f6ae44",
   "metadata": {},
   "outputs": [
    {
     "name": "stdout",
     "output_type": "stream",
     "text": [
      "The database consists of the following 35 tables:\n",
      "                               name\n",
      "0                   DikeTrajectInfo\n",
      "1                       SectionData\n",
      "2                         Mechanism\n",
      "3               MechanismPerSection\n",
      "4         AssessmentMechanismResult\n",
      "5           AssessmentSectionResult\n",
      "6                   ComputationType\n",
      "7               ComputationScenario\n",
      "8                         SlopePart\n",
      "9            BlockRevetmentRelation\n",
      "10                        Buildings\n",
      "11          CharacteristicPointType\n",
      "12                   CombinableType\n",
      "13     ComputationScenarioParameter\n",
      "14                      MeasureType\n",
      "15                          Measure\n",
      "16                    CustomMeasure\n",
      "17           CustomMeasureParameter\n",
      "18           GrassRevetmentRelation\n",
      "19                MeasurePerSection\n",
      "20                    MeasureResult\n",
      "21           MeasureResultMechanism\n",
      "22           MeasureResultParameter\n",
      "23             MeasureResultSection\n",
      "24                   MechanismTable\n",
      "25                 OptimizationType\n",
      "26                  OptimizationRun\n",
      "27      OptimizationSelectedMeasure\n",
      "28                 OptimizationStep\n",
      "29  OptimizationStepResultMechanism\n",
      "30    OptimizationStepResultSection\n",
      "31                     ProfilePoint\n",
      "32                  StandardMeasure\n",
      "33                   SupportingFile\n",
      "34                   WaterlevelData\n",
      "\n"
     ]
    }
   ],
   "source": [
    "# obtain a list of all tables in the database\n",
    "tables = pd.read_sql_query(\"SELECT name FROM sqlite_master WHERE type='table';\", conn)\n",
    "\n",
    "print(\"The database consists of the following\", len(tables), \"tables:\")\n",
    "print(tables)\n",
    "print()"
   ]
  },
  {
   "cell_type": "code",
   "execution_count": 49,
   "id": "4913eb2d-eb1d-4c91-8088-b473f1a4a145",
   "metadata": {
    "editable": true,
    "slideshow": {
     "slide_type": ""
    },
    "tags": []
   },
   "outputs": [],
   "source": [
    "# We want to receive an overview of which measures are taken for the (VRM) or the Doorsnede-Eisen\n",
    "# Methode (DEM)"
   ]
  },
  {
   "cell_type": "code",
   "execution_count": 50,
   "id": "a22ed7a6-58a9-472a-b8cb-97a88d4d4d51",
   "metadata": {},
   "outputs": [],
   "source": [
    "# Defining an SQL query\n",
    "table_name_id = 26 # this is the optimization run\n",
    "sql_query = 'SELECT * FROM {}'.format(tables.iloc[table_name_id].values[0])"
   ]
  },
  {
   "cell_type": "code",
   "execution_count": null,
   "id": "a8bf4f95-6ed5-48c7-a052-f06748fae219",
   "metadata": {},
   "outputs": [],
   "source": []
  },
  {
   "cell_type": "code",
   "execution_count": 51,
   "id": "ebd6aa6a-9076-46f2-a2ec-ec5954f394b6",
   "metadata": {},
   "outputs": [
    {
     "name": "stdout",
     "output_type": "stream",
     "text": [
      "{'Basisberekening Veiligheidsrendement': 1, 'Basisberekening Doorsnede-eisen': 2}\n"
     ]
    }
   ],
   "source": [
    "# Retrieving the data from the database and write the optimization_type name and \n",
    "# optimization_type_id to a dictionary:\n",
    "optimization_type = pd.read_sql_query(sql_query, conn)\n",
    "optimization_type_dict = dict(zip(optimization_type[\"name\"], optimization_type[\"optimization_type_id\"]))\n",
    "print(optimization_type_dict)"
   ]
  },
  {
   "cell_type": "code",
   "execution_count": 52,
   "id": "5e943ebc-ed7b-4621-b16e-b6cffb3191e1",
   "metadata": {},
   "outputs": [
    {
     "name": "stdout",
     "output_type": "stream",
     "text": [
      "          id  optimization_run_id  measure_result_id  investment_year\n",
      "0          1                    1                  1                0\n",
      "1          2                    1                  1               20\n",
      "2          3                    1                  2                0\n",
      "3          4                    1                  2               20\n",
      "4          5                    1                  3                0\n",
      "...      ...                  ...                ...              ...\n",
      "12116  12117                    1               7077                0\n",
      "12117  12118                    1               7078                0\n",
      "12118  12119                    1               7079                0\n",
      "12119  12120                    1               7080                0\n",
      "12120  12121                    1               7081                0\n",
      "\n",
      "[12121 rows x 4 columns]\n"
     ]
    }
   ],
   "source": [
    "# Retrieve from the database tab \"OptimizationSelectedMeasure\" the id and investment_year \n",
    "# for all the measures for optimization_run_id = 1.\n",
    "optimization_run_id = 1 # 1 is VRM, 2 is DSM\n",
    "sql_query = 'SELECT * FROM OptimizationSelectedMeasure WHERE optimization_run_id = {}'.format(optimization_run_id)\n",
    "selected_optimization_measure = pd.read_sql_query(sql_query, conn)\n",
    "print(selected_optimization_measure)"
   ]
  },
  {
   "cell_type": "code",
   "execution_count": 53,
   "id": "8e1d8aac-89ea-4446-b576-135bb7c6102a",
   "metadata": {},
   "outputs": [],
   "source": [
    "# create a list of ids in the selected_optimization_measure\n",
    "selected_measure_ids = selected_optimization_measure[\"id\"].tolist()"
   ]
  },
  {
   "cell_type": "code",
   "execution_count": 54,
   "id": "9f139ff7-7eb6-4858-a309-4a24f7e7aab4",
   "metadata": {},
   "outputs": [
    {
     "name": "stdout",
     "output_type": "stream",
     "text": [
      "      id  optimization_selected_measure_id  step_number     total_lcc  \\\n",
      "7      1                               399            1  8.248762e+04   \n",
      "67     2                              3148            2  5.096304e+05   \n",
      "79     3                              3467            3  1.435300e+06   \n",
      "5      4                               355            4  1.476544e+06   \n",
      "66     5                              3143            5  1.690116e+06   \n",
      "..   ...                               ...          ...           ...   \n",
      "14   467                               703          295  2.426556e+08   \n",
      "241  468                              6411          296  2.428164e+08   \n",
      "256  469                              6696          296  2.428164e+08   \n",
      "93   470                              3577          297  2.437955e+08   \n",
      "105  471                              3873          297  2.437955e+08   \n",
      "\n",
      "       total_risk  \n",
      "7    5.078556e+11  \n",
      "67   4.795481e+11  \n",
      "79   4.413895e+11  \n",
      "5    4.138515e+11  \n",
      "66   3.944441e+11  \n",
      "..            ...  \n",
      "14   3.380783e+07  \n",
      "241  3.379143e+07  \n",
      "256  3.379143e+07  \n",
      "93   3.369290e+07  \n",
      "105  3.369290e+07  \n",
      "\n",
      "[471 rows x 5 columns]\n"
     ]
    }
   ],
   "source": [
    "# retrieve from the database tab \"OptimizationStep\" all rows where optimization_selected_measure_id is in selected_measure_ids\n",
    "sql_query = 'SELECT * FROM OptimizationStep WHERE optimization_selected_measure_id IN ({})'.format(\n",
    "    ', '.join([str(i) for i in selected_measure_ids]))\n",
    "optimization_step = pd.read_sql_query(sql_query, conn)\n",
    "# sort optimizationStep by id\n",
    "optimization_step = optimization_step.sort_values(by=\"id\")\n",
    "print(optimization_step)"
   ]
  },
  {
   "cell_type": "code",
   "execution_count": 55,
   "id": "0a0c270e-a683-41d5-87b1-9719608aeef0",
   "metadata": {},
   "outputs": [
    {
     "name": "stdout",
     "output_type": "stream",
     "text": [
      "      id  optimization_selected_measure_id  step_number     total_lcc  \\\n",
      "7      1                               399            1  8.248762e+04   \n",
      "67     2                              3148            2  5.096304e+05   \n",
      "79     3                              3467            3  1.435300e+06   \n",
      "5      4                               355            4  1.476544e+06   \n",
      "66     5                              3143            5  1.690116e+06   \n",
      "..   ...                               ...          ...           ...   \n",
      "14   467                               703          295  2.426556e+08   \n",
      "241  468                              6411          296  2.428164e+08   \n",
      "256  469                              6696          296  2.428164e+08   \n",
      "93   470                              3577          297  2.437955e+08   \n",
      "105  471                              3873          297  2.437955e+08   \n",
      "\n",
      "       total_risk  \n",
      "7    5.078556e+11  \n",
      "67   4.795481e+11  \n",
      "79   4.413895e+11  \n",
      "5    4.138515e+11  \n",
      "66   3.944441e+11  \n",
      "..            ...  \n",
      "14   3.380783e+07  \n",
      "241  3.379143e+07  \n",
      "256  3.379143e+07  \n",
      "93   3.369290e+07  \n",
      "105  3.369290e+07  \n",
      "\n",
      "[471 rows x 5 columns]\n"
     ]
    }
   ],
   "source": [
    "# retrieve from the database tab \"OptimizationStep\" all rows where optimization_selected_measure_id is in selected_measure_ids\n",
    "sql_query = 'SELECT * FROM OptimizationStep WHERE optimization_selected_measure_id IN ({})'.format(\n",
    "    ', '.join([str(i) for i in selected_measure_ids]))\n",
    "optimization_step = pd.read_sql_query(sql_query, conn)\n",
    "# sort optimizationStep by id\n",
    "optimization_step = optimization_step.sort_values(by=\"id\")\n",
    "print(optimization_step)\n",
    "\n",
    "sql_query = 'SELECT * FROM OptimizationSelectedMeasure WHERE id IN ({})'.format(\n",
    "    ', '.join([str(i) for i in optimization_step[\"optimization_selected_measure_id\"].tolist()]))\n",
    "optimization_selected_measure = pd.read_sql_query(sql_query, conn)"
   ]
  },
  {
   "cell_type": "code",
   "execution_count": 56,
   "id": "4275ba55-03da-41c2-bbfb-38c7ac53dd8e",
   "metadata": {},
   "outputs": [
    {
     "name": "stdout",
     "output_type": "stream",
     "text": [
      "        id  optimization_run_id  measure_result_id  investment_year\n",
      "0        3                    1                  2                0\n",
      "1      312                    1                168                0\n",
      "2      314                    1                170                0\n",
      "3      315                    1                171                0\n",
      "4      317                    1                173                0\n",
      "..     ...                  ...                ...              ...\n",
      "317  11803                    1               6889                0\n",
      "318  11805                    1               6890                0\n",
      "319  11821                    1               6898                0\n",
      "320  12058                    1               7018                0\n",
      "321  12106                    1               7066                0\n",
      "\n",
      "[322 rows x 4 columns]\n"
     ]
    }
   ],
   "source": [
    "print(optimization_selected_measure)"
   ]
  },
  {
   "cell_type": "code",
   "execution_count": 57,
   "id": "1841eb72-9fb8-4076-9232-8f8df09d865b",
   "metadata": {},
   "outputs": [
    {
     "name": "stdout",
     "output_type": "stream",
     "text": [
      "      id  optimization_selected_measure_id  step_number     total_lcc  \\\n",
      "0      1                               399            1  8.248762e+04   \n",
      "1      2                              3148            2  5.096304e+05   \n",
      "2      3                              3467            3  1.435300e+06   \n",
      "3      4                               355            4  1.476544e+06   \n",
      "4      5                              3143            5  1.690116e+06   \n",
      "..   ...                               ...          ...           ...   \n",
      "466  467                               703          295  2.426556e+08   \n",
      "467  468                              6411          296  2.428164e+08   \n",
      "468  469                              6696          296  2.428164e+08   \n",
      "469  470                              3577          297  2.437955e+08   \n",
      "470  471                              3873          297  2.437955e+08   \n",
      "\n",
      "       total_risk  measure_result_id  investment_year  \n",
      "0    5.078556e+11                255                0  \n",
      "1    4.795481e+11               1852                0  \n",
      "2    4.413895e+11               2027                0  \n",
      "3    4.138515e+11                211                0  \n",
      "4    3.944441e+11               1847                0  \n",
      "..            ...                ...              ...  \n",
      "466  3.380783e+07                415                0  \n",
      "467  3.379143e+07               3785                0  \n",
      "468  3.379143e+07               3960                0  \n",
      "469  3.369290e+07               2112                0  \n",
      "470  3.369290e+07               2289                0  \n",
      "\n",
      "[471 rows x 7 columns]\n"
     ]
    }
   ],
   "source": [
    "# add the measure_result_id + investment_year to the optimization_step dataframe. These can be found in the \n",
    "# optimization_selected_measure dataframe\n",
    "optimization_step = pd.merge(optimization_step, optimization_selected_measure[[\"id\", \"measure_result_id\", \"investment_year\"]],\n",
    "                                left_on=\"optimization_selected_measure_id\", right_on=\"id\", how=\"left\")\n",
    "# drop the \"id_y\" column\n",
    "optimization_step = optimization_step.drop(columns=\"id_y\")\n",
    "optimization_step = optimization_step.rename(columns={\"id_x\": \"id\"})\n",
    "print(optimization_step)"
   ]
  },
  {
   "cell_type": "code",
   "execution_count": 58,
   "id": "70ab6457-c028-4fe8-a079-cd1357484821",
   "metadata": {},
   "outputs": [
    {
     "name": "stdout",
     "output_type": "stream",
     "text": [
      "investments done in year t=0:\n",
      "448\n",
      "investments done in year t=20:\n",
      "23\n"
     ]
    }
   ],
   "source": [
    "# print how many investments are done in year t = 0 and t = 20\n",
    "print(\"investments done in year t=0:\")\n",
    "print(np.sum(optimization_step.investment_year==0))\n",
    "print(\"investments done in year t=20:\")\n",
    "print(np.sum(optimization_step.investment_year==20))      "
   ]
  },
  {
   "cell_type": "code",
   "execution_count": 59,
   "id": "25fce94c-cc52-472d-be6e-4cd00f01495c",
   "metadata": {},
   "outputs": [],
   "source": [
    "# add MeasureResult where id matches optimization_step[\"measure_result_id\"] to the optimization_step dataframe\n",
    "sql_query = 'SELECT * FROM MeasureResult WHERE id IN ({})'.format(\n",
    "    ', '.join([str(i) for i in optimization_step[\"measure_result_id\"].tolist()]))\n",
    "measure_result = pd.read_sql_query(sql_query, conn)\n",
    "# add the \"name\" column from the measure_result dataframe to the optimization_step dataframe\n",
    "optimization_step = pd.merge(optimization_step, measure_result[[\"id\", \"measure_per_section_id\"]],\n",
    "                                left_on=\"measure_result_id\", right_on=\"id\", how=\"left\")\n",
    "# drop the \"id_y\" column\n",
    "optimization_step = optimization_step.drop(columns=\"id_y\")\n",
    "optimization_step = optimization_step.rename(columns={\"id_x\": \"id\"})"
   ]
  },
  {
   "cell_type": "code",
   "execution_count": 61,
   "id": "483e076d-cb9f-4c97-88ac-6d595f7615cf",
   "metadata": {},
   "outputs": [
    {
     "name": "stdout",
     "output_type": "stream",
     "text": [
      "      id  optimization_selected_measure_id  step_number     total_lcc  \\\n",
      "0      1                               399            1  8.248762e+04   \n",
      "1      2                              3148            2  5.096304e+05   \n",
      "2      3                              3467            3  1.435300e+06   \n",
      "3      4                               355            4  1.476544e+06   \n",
      "4      5                              3143            5  1.690116e+06   \n",
      "..   ...                               ...          ...           ...   \n",
      "466  467                               703          295  2.426556e+08   \n",
      "467  468                              6411          296  2.428164e+08   \n",
      "468  469                              6696          296  2.428164e+08   \n",
      "469  470                              3577          297  2.437955e+08   \n",
      "470  471                              3873          297  2.437955e+08   \n",
      "\n",
      "       total_risk  measure_result_id  investment_year  measure_per_section_id  \n",
      "0    5.078556e+11                255                0                       6  \n",
      "1    4.795481e+11               1852                0                      54  \n",
      "2    4.413895e+11               2027                0                      60  \n",
      "3    4.138515e+11                211                0                       6  \n",
      "4    3.944441e+11               1847                0                      54  \n",
      "..            ...                ...              ...                     ...  \n",
      "466  3.380783e+07                415                0                      12  \n",
      "467  3.379143e+07               3785                0                     109  \n",
      "468  3.379143e+07               3960                0                     114  \n",
      "469  3.369290e+07               2112                0                      61  \n",
      "470  3.369290e+07               2289                0                      66  \n",
      "\n",
      "[471 rows x 8 columns]\n"
     ]
    }
   ],
   "source": [
    "print(optimization_step)"
   ]
  },
  {
   "cell_type": "code",
   "execution_count": 65,
   "id": "437db919-993a-4b15-a77d-4f93ccd5bade",
   "metadata": {},
   "outputs": [
    {
     "name": "stdout",
     "output_type": "stream",
     "text": [
      "      id  optimization_selected_measure_id  step_number     total_lcc  \\\n",
      "0      1                               399            1  8.248762e+04   \n",
      "1      2                              3148            2  5.096304e+05   \n",
      "2      3                              3467            3  1.435300e+06   \n",
      "3      4                               355            4  1.476544e+06   \n",
      "4      5                              3143            5  1.690116e+06   \n",
      "..   ...                               ...          ...           ...   \n",
      "466  467                               703          295  2.426556e+08   \n",
      "467  468                              6411          296  2.428164e+08   \n",
      "468  469                              6696          296  2.428164e+08   \n",
      "469  470                              3577          297  2.437955e+08   \n",
      "470  471                              3873          297  2.437955e+08   \n",
      "\n",
      "       total_risk  measure_result_id  investment_year  measure_per_section_id  \\\n",
      "0    5.078556e+11                255                0                       6   \n",
      "1    4.795481e+11               1852                0                      54   \n",
      "2    4.413895e+11               2027                0                      60   \n",
      "3    4.138515e+11                211                0                       6   \n",
      "4    3.944441e+11               1847                0                      54   \n",
      "..            ...                ...              ...                     ...   \n",
      "466  3.380783e+07                415                0                      12   \n",
      "467  3.379143e+07               3785                0                     109   \n",
      "468  3.379143e+07               3960                0                     114   \n",
      "469  3.369290e+07               2112                0                      61   \n",
      "470  3.369290e+07               2289                0                      66   \n",
      "\n",
      "     section_id  measure_id  \n",
      "0             1           8  \n",
      "1             9           8  \n",
      "2            10           8  \n",
      "3             1           8  \n",
      "4             9           8  \n",
      "..          ...         ...  \n",
      "466           2           8  \n",
      "467          19           1  \n",
      "468          19           8  \n",
      "469          11           1  \n",
      "470          11           8  \n",
      "\n",
      "[471 rows x 10 columns]\n"
     ]
    }
   ],
   "source": [
    "# add MeasurePerSection where id matches optimization_step[\"measure_per_section_id\"] to the optimization_step dataframe\n",
    "sql_query = 'SELECT * FROM MeasurePerSection WHERE id IN ({})'.format(\n",
    "    ', '.join([str(i) for i in optimization_step[\"measure_per_section_id\"].tolist()]))\n",
    "measure_per_section = pd.read_sql_query(sql_query, conn)\n",
    "# add the \"section_id\", \"measure_id\" column from the measure_per_section dataframe to the optimization_step dataframe\n",
    "optimization_step = pd.merge(optimization_step, measure_per_section[[\"id\", \"section_id\", \"measure_id\"]],\n",
    "                                left_on=\"measure_per_section_id\", right_on=\"id\", how=\"left\")\n",
    "# drop the \"id_y\" column\n",
    "optimization_step = optimization_step.drop(columns=\"id_y\")\n",
    "optimization_step = optimization_step.rename(columns={\"id_x\": \"id\"})\n",
    "print(optimization_step)"
   ]
  },
  {
   "cell_type": "code",
   "execution_count": 66,
   "id": "a149ff5c-4694-40d0-84ed-74ccfb1ba8d2",
   "metadata": {},
   "outputs": [],
   "source": [
    "# Where id in SectionData matches section_id in optimization_step dataframe, add the \"section_name\" column to the\n",
    "# optimization_step dataframe\n",
    "sql_query = 'SELECT * FROM SectionData WHERE id IN ({})'.format(\n",
    "    ', '.join([str(i) for i in optimization_step[\"section_id\"].tolist()]))\n",
    "section_data = pd.read_sql_query(sql_query, conn)\n",
    "# add the \"section_name\" column from the section_data dataframe to the optimization_step dataframe\n",
    "optimization_step = pd.merge(optimization_step, section_data[[\"id\", \"section_name\"]],\n",
    "                                left_on=\"section_id\", right_on=\"id\", how=\"left\")\n",
    "# drop the \"id_y\" column\n",
    "optimization_step = optimization_step.drop(columns=\"id_y\")\n",
    "# rename the \"id_x\" column to \"id\"\n",
    "optimization_step = optimization_step.rename(columns={\"id_x\": \"id\"})"
   ]
  },
  {
   "cell_type": "code",
   "execution_count": 67,
   "id": "1aace832-bae2-453b-94f5-289ea40c076c",
   "metadata": {},
   "outputs": [
    {
     "name": "stdout",
     "output_type": "stream",
     "text": [
      "      id  optimization_selected_measure_id  step_number     total_lcc  \\\n",
      "0      1                               399            1  8.248762e+04   \n",
      "1      2                              3148            2  5.096304e+05   \n",
      "2      3                              3467            3  1.435300e+06   \n",
      "3      4                               355            4  1.476544e+06   \n",
      "4      5                              3143            5  1.690116e+06   \n",
      "..   ...                               ...          ...           ...   \n",
      "466  467                               703          295  2.426556e+08   \n",
      "467  468                              6411          296  2.428164e+08   \n",
      "468  469                              6696          296  2.428164e+08   \n",
      "469  470                              3577          297  2.437955e+08   \n",
      "470  471                              3873          297  2.437955e+08   \n",
      "\n",
      "       total_risk  measure_result_id  investment_year  measure_per_section_id  \\\n",
      "0    5.078556e+11                255                0                       6   \n",
      "1    4.795481e+11               1852                0                      54   \n",
      "2    4.413895e+11               2027                0                      60   \n",
      "3    4.138515e+11                211                0                       6   \n",
      "4    3.944441e+11               1847                0                      54   \n",
      "..            ...                ...              ...                     ...   \n",
      "466  3.380783e+07                415                0                      12   \n",
      "467  3.379143e+07               3785                0                     109   \n",
      "468  3.379143e+07               3960                0                     114   \n",
      "469  3.369290e+07               2112                0                      61   \n",
      "470  3.369290e+07               2289                0                      66   \n",
      "\n",
      "     section_id  measure_id section_name  \n",
      "0             1           8            1  \n",
      "1             9           8           11  \n",
      "2            10           8           13  \n",
      "3             1           8            1  \n",
      "4             9           8           11  \n",
      "..          ...         ...          ...  \n",
      "466           2           8            3  \n",
      "467          19           1           23  \n",
      "468          19           8           23  \n",
      "469          11           1           14  \n",
      "470          11           8           14  \n",
      "\n",
      "[471 rows x 11 columns]\n"
     ]
    }
   ],
   "source": [
    "print(optimization_step)"
   ]
  },
  {
   "cell_type": "code",
   "execution_count": null,
   "id": "7858ff9a-eb7e-48f5-a4e4-ae34d47f5ba8",
   "metadata": {},
   "outputs": [],
   "source": [
    "# Closing the connection to the database\n",
    "# conn.close()"
   ]
  }
 ],
 "metadata": {
  "kernelspec": {
   "display_name": "Python 3 (ipykernel)",
   "language": "python",
   "name": "python3"
  },
  "language_info": {
   "codemirror_mode": {
    "name": "ipython",
    "version": 3
   },
   "file_extension": ".py",
   "mimetype": "text/x-python",
   "name": "python",
   "nbconvert_exporter": "python",
   "pygments_lexer": "ipython3",
   "version": "3.10.13"
  }
 },
 "nbformat": 4,
 "nbformat_minor": 5
}
