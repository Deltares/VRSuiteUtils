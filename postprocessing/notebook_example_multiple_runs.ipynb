{
 "cells": [
  {
   "cell_type": "markdown",
   "id": "35352a3f",
   "metadata": {},
   "source": [
    "This notebook gives an example of how one can analyze different runs in the same database. \n",
    "This is for instance relevant if multiple analysis with veiligheidsrendement are made for the same traject."
   ]
  },
  {
   "cell_type": "markdown",
   "id": "746917ce-1090-4f5f-83c2-c5af70a80faa",
   "metadata": {},
   "source": [
    "### Import necessary libraries"
   ]
  },
  {
   "cell_type": "code",
   "execution_count": null,
   "id": "e9b85c72-0b27-4530-97c4-3b1443ac1b81",
   "metadata": {
    "editable": true,
    "slideshow": {
     "slide_type": ""
    },
    "tags": []
   },
   "outputs": [],
   "source": [
    "import copy\n",
    "import matplotlib.pyplot as plt\n",
    "import seaborn as sns\n",
    "import pandas as pd\n",
    "from pathlib import Path\n",
    "import numpy as np\n",
    "from scipy.stats import norm\n",
    "from peewee import fn\n",
    "from collections import defaultdict\n",
    "from vrtool.orm.models import *\n",
    "from vrtool.orm.orm_controllers import open_database\n",
    "from vrtool.common.enums import MechanismEnum\n",
    "from postprocessing.database_analytics import *\n",
    "from postprocessing.database_access_functions import * \n",
    "from postprocessing.generate_output import *\n",
    "\n",
    "sns.set(style=\"whitegrid\")\n",
    "colors = sns.color_palette(\"colorblind\", 10)\n",
    "\n"
   ]
  },
  {
   "cell_type": "markdown",
   "id": "b8d4b5e2-745d-4adc-9539-5d4c224ecf32",
   "metadata": {},
   "source": [
    "### Get the runs that are in the database\n",
    "First we get an overview of the runs in the database"
   ]
  },
  {
   "cell_type": "code",
   "execution_count": null,
   "id": "3a768e02",
   "metadata": {},
   "outputs": [],
   "source": [
    "database_path = Path(r'c:\\Users\\klerk_wj\\OneDrive - Stichting Deltares\\00_Projecten\\11_VR_HWBP\\02_Presentaties\\Dashboard cases\\24-3_met_projecten\\24-3_database_test_discounting.db')\n",
    "casename = 'new_discounting'\n",
    "run_list = get_overview_of_runs(database_path)\n",
    "run_list = [run for run in run_list if run['optimization_type_name']== 'VEILIGHEIDSRENDEMENT']\n",
    "pd.DataFrame(run_list)\n",
    "run_list = run_list[0:4]"
   ]
  },
  {
   "cell_type": "markdown",
   "id": "a608a1da",
   "metadata": {},
   "source": [
    "For each run, we get the optimization steps and the step with minimal total cost"
   ]
  },
  {
   "cell_type": "code",
   "execution_count": null,
   "id": "917433c9",
   "metadata": {},
   "outputs": [],
   "source": [
    "optimization_steps = {run['name']: get_optimization_steps_for_run_id(database_path, run['id']) for run in run_list}\n",
    "# add total cost as sum of total_lcc and total_risk in each step\n",
    "\n",
    "minimal_tc_steps = {run: get_minimal_tc_step(steps) for run, steps in optimization_steps.items()}\n"
   ]
  },
  {
   "cell_type": "code",
   "execution_count": null,
   "id": "5a48fbfc",
   "metadata": {},
   "outputs": [],
   "source": [
    "fig, ax = plt.subplots()\n",
    "for run in optimization_steps.keys():\n",
    "    plot_lcc_tc_from_steps(optimization_steps[run], axis=ax, lbl  = run, clr = colors[0])\n",
    "    ax.plot(optimization_steps[run][minimal_tc_steps[run]]['total_lcc'], optimization_steps[run][minimal_tc_steps[run]]['total_risk'], 'o', color = colors.pop(0))\n",
    "ax.set_xlabel('Total LCC')\n",
    "ax.set_ylabel('Total risk')\n",
    "ax.set_yscale('log')\n",
    "ax.set_xlim(left=0)\n",
    "ax.set_ylim(top=1e10)\n",
    "ax.legend()\n",
    "plt.savefig(database_path.parent.joinpath(f'{casename}_lcc_risk.png'),dpi=300,bbox_inches='tight')"
   ]
  },
  {
   "cell_type": "markdown",
   "id": "a2141620",
   "metadata": {},
   "source": [
    "Based on this graph we already get a good idea of which run leads to the most optimal solution (low risk - low cost)."
   ]
  },
  {
   "cell_type": "markdown",
   "id": "1edb8c43",
   "metadata": {},
   "source": [
    "### Reading measures per step\n",
    "The next step is to read the measures and parameters of these measures for each optimization step such that we can compare the measures that are taken in each step and for each section."
   ]
  },
  {
   "cell_type": "code",
   "execution_count": null,
   "id": "354ee97b",
   "metadata": {},
   "outputs": [],
   "source": [
    "lists_of_measures = {run['id']: get_measures_for_run_id(database_path, run['id']) for run in run_list}\n",
    "\n",
    "measures_per_step = {run['id']: get_measures_per_step_number(lists_of_measures[run['id']]) for run in run_list}"
   ]
  },
  {
   "cell_type": "markdown",
   "id": "43463ead",
   "metadata": {},
   "source": [
    "If we want to see the failure probability per stap we first need to load the original assessment for each mechanism, and then we can compute the reliability for each step during the optimization. "
   ]
  },
  {
   "cell_type": "code",
   "execution_count": null,
   "id": "f2963f62",
   "metadata": {},
   "outputs": [],
   "source": [
    "assessment_results = {mechanism: import_original_assessment(database_path, mechanism) \n",
    "                      for mechanism in [MechanismEnum.OVERFLOW, MechanismEnum.PIPING, MechanismEnum.STABILITY_INNER]}\n",
    "\n",
    "reliability_per_step = {run['id']: get_reliability_for_each_step(database_path, measures_per_step[run['id']]) for run in run_list}"
   ]
  },
  {
   "cell_type": "markdown",
   "id": "4e6134da",
   "metadata": {},
   "source": [
    "Based on these inputs we can make a stepwise_assessment based on the investments in reliability_per_step"
   ]
  },
  {
   "cell_type": "code",
   "execution_count": null,
   "id": "936221a8",
   "metadata": {},
   "outputs": [],
   "source": [
    "stepwise_assessment = {run['id']: assessment_for_each_step(copy.deepcopy(assessment_results), reliability_per_step[run['id']]) for run in run_list}"
   ]
  },
  {
   "cell_type": "markdown",
   "id": "28078569",
   "metadata": {},
   "source": [
    "The next step is to derive the traject probability for each mechanism for each step using the `calculate_traject_probability_for_steps` function"
   ]
  },
  {
   "cell_type": "code",
   "execution_count": null,
   "id": "32d1c8f4",
   "metadata": {},
   "outputs": [],
   "source": [
    "traject_prob = {run['id']: calculate_traject_probability_for_steps(stepwise_assessment[run['id']]) for run in run_list}"
   ]
  },
  {
   "cell_type": "code",
   "execution_count": null,
   "id": "4b427617",
   "metadata": {},
   "outputs": [],
   "source": [
    "fig, ax  = plt.subplots()\n",
    "\n",
    "plot_traject_probability_for_step(traject_prob[1][0], ax, run_label='Beginsituatie',color = 'k')\n",
    "for count, run in enumerate(run_list):\n",
    "    plot_traject_probability_for_step(traject_prob[run['id']][minimal_tc_steps[run['name']]], ax, run_label=run['name'].strip('Veiligheidsrendement'), color = colors[count])\n",
    "\n",
    "ax.set_ylim(bottom = 1e-5, top = 1e-1)\n",
    "ax.set_xlim(left = 0, right = 100)\n",
    "plt.savefig(database_path.parent.joinpath(f'{casename}_traject_prob_in_time.png'),dpi=300,bbox_inches='tight')"
   ]
  },
  {
   "cell_type": "markdown",
   "id": "5628e349",
   "metadata": {},
   "source": [
    "Now we check the measures for each section. We print the ids of the measures"
   ]
  },
  {
   "cell_type": "code",
   "execution_count": null,
   "id": "36afdf8c",
   "metadata": {},
   "outputs": [],
   "source": [
    "measures_per_section = {run['id']: get_measures_per_section_for_step(measures_per_step[run['id']], minimal_tc_steps[run['name']]) for run in run_list}\n",
    "section_names = [list(measures_per_section[run].keys()) for run in measures_per_section.keys()]\n",
    "section_names = list(set([item for sublist in section_names for item in sublist]))\n",
    "\n",
    "for section in section_names:\n",
    "    for run in measures_per_section.keys():\n",
    "        try:\n",
    "            print(f\"Section {section} in run {run} has measures {measures_per_section[run][section][0]} at time {measures_per_section[run][section][1]}\")  \n",
    "        except:\n",
    "            print(f\"Section {section} in run {run} has no measures in run {run}\")"
   ]
  },
  {
   "cell_type": "markdown",
   "id": "7ca08be4",
   "metadata": {},
   "source": [
    "Now we get for each section the parameters of the measure + timing + cost. This is stored in a `pd.DataFrame` for each run."
   ]
  },
  {
   "cell_type": "code",
   "execution_count": null,
   "id": "faab47bb",
   "metadata": {},
   "outputs": [],
   "source": [
    "section_parameters = defaultdict(dict)\n",
    "\n",
    "for run in measures_per_section.keys():\n",
    "    for section in measures_per_section[run].keys():\n",
    "        section_parameters[run][section] = []\n",
    "        for measure in measures_per_section[run][section][0]:\n",
    "            parameters = get_measure_parameters(measure, database_path)\n",
    "            parameters.update(get_measure_costs(measure, database_path))\n",
    "            parameters.update(get_measure_type(measure, database_path))\n",
    "            section_parameters[run][section].append(parameters)\n",
    "\n",
    "measure_parameters = {run['id']: measure_per_section_to_df(measures_per_section[run['id']], section_parameters[run['id']]) for run in run_list}\n"
   ]
  },
  {
   "cell_type": "markdown",
   "id": "ae0d9826",
   "metadata": {},
   "source": [
    "We list the investment for each year for each section"
   ]
  },
  {
   "cell_type": "code",
   "execution_count": null,
   "id": "ff53d099",
   "metadata": {},
   "outputs": [],
   "source": [
    "\n",
    "\n",
    "\n"
   ]
  },
  {
   "cell_type": "markdown",
   "id": "1b7918b8",
   "metadata": {},
   "source": [
    "## Comparison of investment in time"
   ]
  },
  {
   "cell_type": "markdown",
   "id": "15c71c58",
   "metadata": {},
   "source": [
    "As multiple runs in the same database will typically study the timing of measures, as final step we make a plot of the spending of each run in time.\n",
    "\n",
    "First we get the investment for each section."
   ]
  },
  {
   "cell_type": "code",
   "execution_count": null,
   "id": "3d6b39a6",
   "metadata": {},
   "outputs": [],
   "source": [
    "investments = {}\n",
    "for run in run_list:\n",
    "    investments[run['name']] = {}\n",
    "    years = get_unique_years(measures_per_section[run['id']])\n",
    "    for section in measures_per_section[run['id']].keys():\n",
    "        investments[run['name']][section] = {}\n",
    "        for idx, measure in enumerate(section_parameters[run['id']][section]):\n",
    "            investments[run['name']][section][measures_per_section[run['id']][section][1][idx]] = measure['cost']"
   ]
  },
  {
   "cell_type": "markdown",
   "id": "6c06185a",
   "metadata": {},
   "source": [
    "Next we sum this to the total investment for each year, and make a plot"
   ]
  },
  {
   "cell_type": "code",
   "execution_count": null,
   "id": "90cba69e",
   "metadata": {},
   "outputs": [],
   "source": [
    "total_investments_per_year = {}\n",
    "for run in run_list:\n",
    "    #make empty dict with keys = unique years and values = 0\n",
    "    total_investments_per_year[run['name']] = dict.fromkeys(get_unique_years(measures_per_section[run['id']]), 0)\n",
    "    for section in investments[run['name']].keys():\n",
    "        for year in investments[run['name']][section].keys():\n",
    "            total_investments_per_year[run['name']][year] += investments[run['name']][section][year]\n",
    "\n",
    "    "
   ]
  },
  {
   "cell_type": "code",
   "execution_count": null,
   "id": "bdeba6c2",
   "metadata": {},
   "outputs": [],
   "source": [
    "#make a bar plot of the investments per year, grouped by run don't stack them, add a legend\n",
    "fig, ax = plt.subplots()\n",
    "colors = ['r', 'g', 'b', 'c', 'm', 'y', 'k']\n",
    "x_ticks = []\n",
    "x_ticklabels = []\n",
    "for count, run in enumerate(run_list):\n",
    "    #x-position is a unique value per case, y-position is the cost, we plot the years next to each other\n",
    "    x = [count + 0.1*idx for idx, year in enumerate(total_investments_per_year[run['name']].keys())]\n",
    "    y = list(total_investments_per_year[run['name']].values())\n",
    "    for idx, year in enumerate(total_investments_per_year[run['name']].keys()):\n",
    "        if count == 0:\n",
    "            ax.bar(x[idx], y[idx], color = colors[idx], width = 0.1, label = year)\n",
    "        else:\n",
    "            ax.bar(x[idx], y[idx], color = colors[idx], width = 0.1)\n",
    "    x_ticks.append(x[0])\n",
    "    x_ticklabels.append(run['name'].strip('Veiligheidsrendement'))   \n",
    "\n",
    "# change x-ticks t combiatnions of axis location and run name as stored in x_ticks\n",
    "ax.set_xticks(x_ticks, x_ticklabels, rotation = 90, ha = 'right', fontsize = 8)    # ax.bar(x, y, color = colors, width = 0.1, label = run['name'])\n",
    "# ax.set_xticks(*x_ticks)#, rotation = 45, ha = 'right', fontsize = 8)    # ax.bar(x, y, color = colors, width = 0.1, label = run['name'])\n",
    "        # ax.text(x[idx], y[idx], f'{year}', rotation = 90)\n",
    "ax.legend()\n",
    "\n",
    "\n"
   ]
  }
 ],
 "metadata": {
  "kernelspec": {
   "display_name": "Python 3 (ipykernel)",
   "language": "python",
   "name": "python3"
  },
  "language_info": {
   "codemirror_mode": {
    "name": "ipython",
    "version": 3
   },
   "file_extension": ".py",
   "mimetype": "text/x-python",
   "name": "python",
   "nbconvert_exporter": "python",
   "pygments_lexer": "ipython3",
   "version": "3.10.12"
  }
 },
 "nbformat": 4,
 "nbformat_minor": 5
}
