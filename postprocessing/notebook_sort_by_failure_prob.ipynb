{
 "cells": [
  {
   "cell_type": "markdown",
   "id": "35352a3f",
   "metadata": {},
   "source": [
    "This notebook gives an example of how one can analyze different runs in the same database. \n",
    "This is for instance relevant if multiple analysis with veiligheidsrendement are made for the same traject."
   ]
  },
  {
   "cell_type": "markdown",
   "id": "746917ce-1090-4f5f-83c2-c5af70a80faa",
   "metadata": {},
   "source": [
    "### Import necessary libraries"
   ]
  },
  {
   "cell_type": "code",
   "execution_count": 2,
   "id": "e9b85c72-0b27-4530-97c4-3b1443ac1b81",
   "metadata": {
    "editable": true,
    "slideshow": {
     "slide_type": ""
    },
    "tags": []
   },
   "outputs": [],
   "source": [
    "import copy\n",
    "import matplotlib.pyplot as plt\n",
    "import seaborn as sns\n",
    "import pandas as pd\n",
    "from pathlib import Path\n",
    "import numpy as np\n",
    "from scipy.stats import norm\n",
    "from peewee import fn\n",
    "from collections import defaultdict\n",
    "from vrtool.orm.models import *\n",
    "from vrtool.orm.orm_controllers import open_database\n",
    "from vrtool.common.enums import MechanismEnum\n",
    "from postprocessing.database_analytics import *\n",
    "from postprocessing.database_access_functions import * \n",
    "from postprocessing.generate_output import *\n",
    "\n",
    "sns.set(style=\"whitegrid\")\n",
    "colors = sns.color_palette(\"colorblind\", 10)\n",
    "\n"
   ]
  },
  {
   "cell_type": "markdown",
   "id": "b8d4b5e2-745d-4adc-9539-5d4c224ecf32",
   "metadata": {},
   "source": [
    "### Get the runs that are in the database\n",
    "First we get an overview of the runs in the database"
   ]
  },
  {
   "cell_type": "code",
   "execution_count": 3,
   "id": "3a768e02",
   "metadata": {},
   "outputs": [
    {
     "name": "stdout",
     "output_type": "stream",
     "text": [
      "[{'id': 1, 'name': 'Basisberekening Veiligheidsrendement', 'discount_rate': 0.03, 'optimization_type': 1, 'optimization_type_name': 'VEILIGHEIDSRENDEMENT'}]\n"
     ]
    }
   ],
   "source": [
    "database_path = Path(r'c:\\VRM\\traject10_voor_handreiking\\10-3\\database_10-3.sqlite')\n",
    "# casename = 'new_discounting'\n",
    "run_list = get_overview_of_runs(database_path)\n",
    "run_list = [run for run in run_list if run['optimization_type_name']== 'VEILIGHEIDSRENDEMENT']\n",
    "pd.DataFrame(run_list)\n",
    "print(run_list)\n",
    "run_list = run_list[0:4]"
   ]
  },
  {
   "cell_type": "markdown",
   "id": "cd73c4d0",
   "metadata": {},
   "source": [
    "Now, we want to learn which section has the largest effect on the traject failure probability. We use the probability derived from the assessment to: \n",
    "* sort sections based on their failure probability\n",
    "* and find the influence by disabling a section 1 by 1."
   ]
  },
  {
   "cell_type": "code",
   "execution_count": 4,
   "id": "3b7ee190",
   "metadata": {},
   "outputs": [
    {
     "name": "stdout",
     "output_type": "stream",
     "text": [
      "[{'id': 5, 'beta': 4.1367742903542135, 'time': 50, 'section_data': 1}, {'id': 12, 'beta': 3.680632336130546, 'time': 50, 'section_data': 2}, {'id': 19, 'beta': 4.312968267704265, 'time': 50, 'section_data': 3}, {'id': 26, 'beta': 3.5832434475436474, 'time': 50, 'section_data': 4}, {'id': 33, 'beta': 3.0879940517579074, 'time': 50, 'section_data': 5}, {'id': 40, 'beta': 3.606389309727772, 'time': 50, 'section_data': 6}, {'id': 47, 'beta': 3.808711513225074, 'time': 50, 'section_data': 7}, {'id': 54, 'beta': 3.615388962106304, 'time': 50, 'section_data': 8}, {'id': 61, 'beta': 3.6541339156756165, 'time': 50, 'section_data': 9}, {'id': 68, 'beta': 3.601771112864795, 'time': 50, 'section_data': 10}, {'id': 75, 'beta': 3.516140089461028, 'time': 50, 'section_data': 11}, {'id': 82, 'beta': 3.645198745696572, 'time': 50, 'section_data': 12}, {'id': 89, 'beta': 3.662844867600392, 'time': 50, 'section_data': 13}, {'id': 96, 'beta': 3.350873736316954, 'time': 50, 'section_data': 14}, {'id': 103, 'beta': 3.1066503678249395, 'time': 50, 'section_data': 15}, {'id': 110, 'beta': 3.4103954094210405, 'time': 50, 'section_data': 16}, {'id': 117, 'beta': 3.664023339546932, 'time': 50, 'section_data': 17}, {'id': 124, 'beta': 3.4291654708647603, 'time': 50, 'section_data': 18}, {'id': 131, 'beta': 3.168679119413922, 'time': 50, 'section_data': 19}]\n",
      "[{'id': 33, 'beta': 3.0879940517579074, 'time': 50, 'section_data': 5, 'Pf': 0.0010075625217056952}, {'id': 103, 'beta': 3.1066503678249395, 'time': 50, 'section_data': 15, 'Pf': 0.0009461002399551319}, {'id': 131, 'beta': 3.168679119413922, 'time': 50, 'section_data': 19, 'Pf': 0.0007656667873990487}, {'id': 96, 'beta': 3.350873736316954, 'time': 50, 'section_data': 14, 'Pf': 0.00040278511943534406}, {'id': 110, 'beta': 3.4103954094210405, 'time': 50, 'section_data': 16, 'Pf': 0.00032434379465024355}, {'id': 124, 'beta': 3.4291654708647603, 'time': 50, 'section_data': 18, 'Pf': 0.00030272014230390616}, {'id': 75, 'beta': 3.516140089461028, 'time': 50, 'section_data': 11, 'Pf': 0.00021893493975204875}, {'id': 26, 'beta': 3.5832434475436474, 'time': 50, 'section_data': 4, 'Pf': 0.00016967702832271453}, {'id': 68, 'beta': 3.601771112864795, 'time': 50, 'section_data': 10, 'Pf': 0.0001580282909997505}, {'id': 40, 'beta': 3.606389309727772, 'time': 50, 'section_data': 6, 'Pf': 0.0001552436062951652}, {'id': 54, 'beta': 3.615388962106304, 'time': 50, 'section_data': 8, 'Pf': 0.00014994849949853903}, {'id': 82, 'beta': 3.645198745696572, 'time': 50, 'section_data': 12, 'Pf': 0.000133592618284585}, {'id': 61, 'beta': 3.6541339156756165, 'time': 50, 'section_data': 9, 'Pf': 0.00012902578176142107}, {'id': 89, 'beta': 3.662844867600392, 'time': 50, 'section_data': 13, 'Pf': 0.0001247148043197319}, {'id': 117, 'beta': 3.664023339546932, 'time': 50, 'section_data': 17, 'Pf': 0.00012414207302241151}, {'id': 12, 'beta': 3.680632336130546, 'time': 50, 'section_data': 2, 'Pf': 0.00011632813635044306}, {'id': 47, 'beta': 3.808711513225074, 'time': 50, 'section_data': 7, 'Pf': 6.984641147905035e-05}, {'id': 5, 'beta': 4.1367742903542135, 'time': 50, 'section_data': 1, 'Pf': 1.7611113124994962e-05}, {'id': 19, 'beta': 4.312968267704265, 'time': 50, 'section_data': 3, 'Pf': 8.053862226650416e-06}]\n",
      "\n",
      "section_id: 5, Pf: 0.0010075625217056952\n",
      "section_id: 15, Pf: 0.0009461002399551319\n",
      "section_id: 19, Pf: 0.0007656667873990487\n",
      "section_id: 14, Pf: 0.00040278511943534406\n",
      "section_id: 16, Pf: 0.00032434379465024355\n",
      "section_id: 18, Pf: 0.00030272014230390616\n",
      "section_id: 11, Pf: 0.00021893493975204875\n",
      "section_id: 4, Pf: 0.00016967702832271453\n",
      "section_id: 10, Pf: 0.0001580282909997505\n",
      "section_id: 6, Pf: 0.0001552436062951652\n",
      "section_id: 8, Pf: 0.00014994849949853903\n",
      "section_id: 12, Pf: 0.000133592618284585\n",
      "section_id: 9, Pf: 0.00012902578176142107\n",
      "section_id: 13, Pf: 0.0001247148043197319\n",
      "section_id: 17, Pf: 0.00012414207302241151\n",
      "section_id: 2, Pf: 0.00011632813635044306\n",
      "section_id: 7, Pf: 6.984641147905035e-05\n",
      "section_id: 1, Pf: 1.7611113124994962e-05\n",
      "section_id: 3, Pf: 8.053862226650416e-06\n"
     ]
    },
    {
     "data": {
      "image/png": "[encoded data removed]",
      "text/plain": [
       "<Figure size 475x500 with 1 Axes>"
      ]
     },
     "metadata": {},
     "output_type": "display_data"
    }
   ],
   "source": [
    "section_reliability_assessment_list = get_section_assessment_results(database_path)\n",
    "\n",
    "# get beta for each section at 'time'\n",
    "time = 25\n",
    "\n",
    "section_reliability_assessment_list = [section for section in section_reliability_assessment_list if section['time'] == time]\n",
    "print(section_reliability_assessment_list)\n",
    "# Pf = norm.cdf(-beta)\n",
    "# beta = -norm.ppf(Pf)\n",
    "# add Pf to each key, based on beta. Pf = scipy.stats.norm.cdf(-beta)\n",
    "for section_data in section_reliability_assessment_list:\n",
    "    section_data['Pf'] = norm.cdf(-section_data['beta'])\n",
    "\n",
    "# sort the list based on Pf and print sorted list in descending order\n",
    "section_reliability_assessment_list_sorted_pf = sorted(section_reliability_assessment_list, key=lambda k: k['Pf'], reverse=True)\n",
    "print(section_reliability_assessment_list_sorted_pf)\n",
    "\n",
    "# print section ids and Pf\n",
    "print()\n",
    "for section in section_reliability_assessment_list_sorted_pf:\n",
    "    print(f\"section_id: {section['section_data']}, Pf: {section['Pf']}\")\n",
    "\n",
    "\n",
    "# write the results to a csv file with the steps, section id, beta and Pf\n",
    "output_dir = database_path.parent\n",
    "csv_failure_per_section = output_dir / 'failure_per_section.csv'\n",
    "with open(csv_failure_per_section, 'w') as f:\n",
    "    f.write('step, section id, beta, Pf\\n')\n",
    "    for i, section in enumerate(section_reliability_assessment_list_sorted_pf):\n",
    "        f.write(f\"{i+1}, {section['section_data']}, {section['beta']}, {section['Pf']}\\n\")\n",
    "\n",
    "# create a bar plot of the Pf values (on the y axis) and the section ids (on the x axis)\n",
    "# y-axis in log scale\n",
    "fig, ax = plt.subplots()\n",
    "top_x = 25\n",
    "# make width dependent on number of sections, so that labels fit\n",
    "fig.set_size_inches(0.25*len(section_reliability_assessment_list_sorted_pf), 5)\n",
    "# add title\n",
    "ax.set_title(f'Faalkansen van top {top_x} dijkvakken', fontsize=14)\n",
    "ax.bar(np.arange(0, len(section_reliability_assessment_list_sorted_pf)), [section['Pf'] for section in section_reliability_assessment_list_sorted_pf], color=colors[0])\n",
    "ax.set_yscale('log')\n",
    "# add section_data above each bar\n",
    "for i, section in enumerate(section_reliability_assessment_list_sorted_pf[0:top_x+1]):\n",
    "    ax.text(i, section['Pf'], f\"{section['section_data']}\", ha='center', va='bottom')\n",
    "ax.set_xlabel('Dijkvak', fontsize=12)\n",
    "# hide x-ticks\n",
    "ax.set_xticks([])\n",
    "# show only first 25 sections, so set an xlim to the x-axis\n",
    "ax.set_xlim(-0.5, top_x+.5)\n",
    "ax.set_ylabel('Faalkans van dijkvak [1/j]', fontsize=12)\n",
    "plt.show()\n"
   ]
  },
  {
   "cell_type": "markdown",
   "id": "88fbc7f9",
   "metadata": {},
   "source": [
    "Get initial failure probability of the traject"
   ]
  },
  {
   "cell_type": "code",
   "execution_count": null,
   "id": "3b6b718c",
   "metadata": {},
   "outputs": [],
   "source": [
    "assessment_results = {mechanism: import_original_assessment(database_path, mechanism) \n",
    "                      for mechanism in [MechanismEnum.OVERFLOW, MechanismEnum.PIPING, MechanismEnum.STABILITY_INNER]}\n",
    "\n",
    "initial_traject_prob_per_mechanism = calculate_traject_probability(assessment_results)\n",
    "print(initial_traject_prob_per_mechanism)\n",
    "# print the keys in initial_traject_prob_per_mechanism\n",
    "print(initial_traject_prob_per_mechanism.keys())\n",
    "# how many time steps are there in initial_traject_prob_per_mechanism?\n",
    "n_time_steps = len(initial_traject_prob_per_mechanism[MechanismEnum.OVERFLOW])\n",
    "print(n_time_steps)\n",
    "# what are the time steps?\n",
    "time_steps = initial_traject_prob_per_mechanism[MechanismEnum.OVERFLOW].keys()\n",
    "\n",
    "# for each time step time, sum the probabilities of each mechanism in initial_traject_prob_per_mechanism, so you get one failure probability in each time step\n",
    "# we don't know the amount of time steps in advance. Each of the three MechanismEnums has multiple failure probability values for n_time_steps\n",
    "initial_traject_prob = {time: sum([initial_traject_prob_per_mechanism[mechanism][time] for mechanism in initial_traject_prob_per_mechanism]) for time in time_steps}\n",
    "print(initial_traject_prob)\n"
   ]
  },
  {
   "cell_type": "markdown",
   "id": "43463ead",
   "metadata": {},
   "source": [
    "If we want to see the failure probability per stap we first need to load the original assessment for each mechanism, and then we can compute the reliability for each step during the optimization. "
   ]
  },
  {
   "cell_type": "code",
   "execution_count": null,
   "id": "f2963f62",
   "metadata": {},
   "outputs": [],
   "source": [
    "# get the section ids: section_data in section_reliability_assessment_list\n",
    "section_ids = [section['section_data'] for section in section_reliability_assessment_list]\n",
    "section_ids_temp = copy.deepcopy(section_ids) # create a copy to adjust the list in the loop\n",
    "# get the number of sections\n",
    "n_sections = len(section_ids)\n",
    "# get the number of time steps for which a beta is calculated. This is the length of the beta list for the first mechanism in the first section\n",
    "n_beta = len(assessment_results[MechanismEnum.OVERFLOW][section_ids[0]]['beta'])\n",
    "print(f\"n_sections: {n_sections}, n_beta: {n_beta}\") \n",
    "\n",
    "t = 50\n",
    "\n",
    "assessment_results_temp = copy.deepcopy(assessment_results)\n",
    "\n",
    "section_in_step = [0]\n",
    "beta_per_step = [initial_traject_prob[t]]\n",
    "\n",
    "# loop over the different sections\n",
    "for i in range(1, n_sections+1):\n",
    "    min_traject_prob = 1\n",
    "    min_section = 1000\n",
    "\n",
    "    for section_id in section_ids_temp:\n",
    "        assessment_results_temp_adj = copy.deepcopy(assessment_results_temp)\n",
    "        # replace all beta values of section_id with a list containing n_beta times the value 8.0, and keep all values for the other sections the same\n",
    "        for mechanism in assessment_results_temp.keys():\n",
    "            # assessment_results_temp_adj = copy.deepcopy(assessment_results_temp)\n",
    "            assessment_results_temp_adj[mechanism][section_id]['beta'] = [8.0]*n_beta\n",
    "\n",
    "        # get the traject failure probability for the different mechanisms\n",
    "        traject_failure_prob_temp_per_mechanism = calculate_traject_probability(assessment_results_temp_adj)\n",
    "        # print(\"test\", traject_failure_prob_temp_per_mechanism)\n",
    "        \n",
    "        traject_prob_temp = {time: sum([traject_failure_prob_temp_per_mechanism[mechanism][time] for mechanism in traject_failure_prob_temp_per_mechanism]) for time in time_steps}\n",
    "        traject_prob_temp = traject_prob_temp[t]\n",
    "        # print(traject_prob_temp)\n",
    "        if traject_prob_temp <= min_traject_prob:\n",
    "            min_traject_prob = traject_prob_temp\n",
    "            min_section = section_id\n",
    "    \n",
    "    print(f\"In step {i}, reinforcing section {min_section} leads to the largest probability reduction on traject level. Traject probability: {min_traject_prob}\")\n",
    "    # replace all beta values of min_section with a list containing n_beta times the value 8.0, and keep all values for the other sections the same\n",
    "    for mechanism in assessment_results_temp.keys():\n",
    "        assessment_results_temp[mechanism][min_section]['beta'] = [8.0]*n_beta\n",
    "    \n",
    "    # add min_section to section_in_step and min_traject_prob to beta_per_step\n",
    "    section_in_step.append(min_section)\n",
    "    beta_per_step.append(min_traject_prob)\n",
    "\n",
    "    # remove min_section from section_ids\n",
    "    section_ids_temp.remove(min_section)\n"
   ]
  },
  {
   "cell_type": "code",
   "execution_count": null,
   "id": "3d4d71b4",
   "metadata": {},
   "outputs": [],
   "source": [
    "traject_probability_final = calculate_traject_probability(assessment_results_temp)\n",
    "print(traject_probability_final)\n",
    "traject_probability_final_final = {time: sum([traject_probability_final[mechanism][time] for mechanism in traject_probability_final]) for time in time_steps}\n",
    "traject_probability_final_final = traject_probability_final_final[t]\n",
    "print(traject_probability_final_final)"
   ]
  },
  {
   "cell_type": "markdown",
   "id": "23c01c65",
   "metadata": {},
   "source": [
    "Create a plot of the results"
   ]
  },
  {
   "cell_type": "code",
   "execution_count": null,
   "id": "3226a095",
   "metadata": {},
   "outputs": [],
   "source": [
    "# create a bar plot of the Pf values (on the y axis) and the section ids (on the x axis)\n",
    "# y-axis in log scale\n",
    "fig, ax = plt.subplots()\n",
    "# make width dependent on number of sections, so that labels fit\n",
    "fig.set_size_inches(0.5*len(section_in_step), 5)\n",
    "# add title\n",
    "ax.set_title('Pf values of dike traject')\n",
    "ax.bar(np.arange(0, len(section_in_step)), beta_per_step, color=colors[0])\n",
    "ax.set_yscale('log')\n",
    "# add section_data above each bar\n",
    "for i in range(len(beta_per_step)):\n",
    "    ax.text(i, beta_per_step[i], f\"{section_in_step[i]}\", ha='center', va='bottom')\n",
    "ax.set_xlabel('strenthening step')\n",
    "# hide x-ticks\n",
    "# ax.set_xticks([])\n",
    "ax.set_xlim(-0.5, len(section_in_step)+.5)\n",
    "ax.set_ylabel('Pf')\n",
    "plt.show()"
   ]
  }
 ],
 "metadata": {
  "kernelspec": {
   "display_name": "vr_preprocessing",
   "language": "python",
   "name": "python3"
  },
  "language_info": {
   "codemirror_mode": {
    "name": "ipython",
    "version": 3
   },
   "file_extension": ".py",
   "mimetype": "text/x-python",
   "name": "python",
   "nbconvert_exporter": "python",
   "pygments_lexer": "ipython3",
   "version": "3.10.14"
  }
 },
 "nbformat": 4,
 "nbformat_minor": 5
}
